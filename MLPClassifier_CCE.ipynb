{
 "cells": [
  {
   "cell_type": "markdown",
   "id": "9c5d481f",
   "metadata": {},
   "source": [
    "# How to : Wine recognition with MLP Classifier \n",
    "## (Categorical Cross Entropy)"
   ]
  },
  {
   "cell_type": "markdown",
   "id": "f604a52f",
   "metadata": {},
   "source": [
    "## Libraries import"
   ]
  },
  {
   "cell_type": "code",
   "execution_count": 1,
   "id": "50868f6f",
   "metadata": {},
   "outputs": [],
   "source": [
    "import pandas as pd\n",
    "from sklearn.datasets import load_wine\n",
    "from sklearn.model_selection import train_test_split\n",
    "import numpy as np\n",
    "from sklearn.preprocessing import StandardScaler\n",
    "from sklearn.model_selection import train_test_split\n",
    "\n",
    "import keras\n",
    "from keras.utils import to_categorical\n",
    "from keras.layers import Dense\n",
    "from keras import Input, Model\n",
    "\n",
    "from sklearn.metrics import confusion_matrix, classification_report\n",
    "\n",
    "import matplotlib.pyplot as plt\n",
    "import seaborn as sns"
   ]
  },
  {
   "cell_type": "markdown",
   "id": "646519aa",
   "metadata": {},
   "source": [
    "## Load the wine dataset"
   ]
  },
  {
   "cell_type": "code",
   "execution_count": 2,
   "id": "0e828fd0",
   "metadata": {},
   "outputs": [],
   "source": [
    "data = load_wine()\n",
    "X = data.data\n",
    "y = data.target"
   ]
  },
  {
   "cell_type": "markdown",
   "id": "ef19e0a7",
   "metadata": {},
   "source": [
    "## Standard scaling"
   ]
  },
  {
   "cell_type": "code",
   "execution_count": 3,
   "id": "3350e782",
   "metadata": {},
   "outputs": [],
   "source": [
    "scaler = StandardScaler()\n",
    "X_scaled = scaler.fit_transform(X)"
   ]
  },
  {
   "cell_type": "markdown",
   "id": "8307c858",
   "metadata": {},
   "source": [
    "## Dataset split"
   ]
  },
  {
   "cell_type": "code",
   "execution_count": 4,
   "id": "cf2325d6",
   "metadata": {},
   "outputs": [],
   "source": [
    "X_train, X_val, y_train, y_val = train_test_split(X_scaled, y, test_size = 0.2, shuffle=True, stratify=y)"
   ]
  },
  {
   "cell_type": "markdown",
   "id": "b5f37c3d",
   "metadata": {},
   "source": [
    "## Convert target labels to one-hot encoded vectors"
   ]
  },
  {
   "cell_type": "code",
   "execution_count": 5,
   "id": "28b54446",
   "metadata": {},
   "outputs": [],
   "source": [
    "num_classes = 3\n",
    "y_train_encoded = to_categorical(y_train, num_classes)\n",
    "y_val_encoded = to_categorical(y_val, num_classes)"
   ]
  },
  {
   "cell_type": "markdown",
   "id": "a5bc890a",
   "metadata": {},
   "source": [
    "## Building model"
   ]
  },
  {
   "cell_type": "code",
   "execution_count": 6,
   "id": "ee791dcb",
   "metadata": {},
   "outputs": [],
   "source": [
    "inputs = Input(shape=(X.shape[1], ))\n",
    "hidden_layers = Dense(6, activation=\"relu\")(inputs)\n",
    "output_layer = Dense(num_classes, activation=\"softmax\")(hidden_layers)\n",
    "classifier = Model(inputs=inputs, outputs=output_layer)"
   ]
  },
  {
   "cell_type": "markdown",
   "id": "91f6dfdc",
   "metadata": {},
   "source": [
    "## Model Summary"
   ]
  },
  {
   "cell_type": "code",
   "execution_count": 7,
   "id": "23d557a6",
   "metadata": {},
   "outputs": [
    {
     "name": "stdout",
     "output_type": "stream",
     "text": [
      "Model: \"model\"\n",
      "_________________________________________________________________\n",
      " Layer (type)                Output Shape              Param #   \n",
      "=================================================================\n",
      " input_1 (InputLayer)        [(None, 13)]              0         \n",
      "                                                                 \n",
      " dense (Dense)               (None, 6)                 84        \n",
      "                                                                 \n",
      " dense_1 (Dense)             (None, 3)                 21        \n",
      "                                                                 \n",
      "=================================================================\n",
      "Total params: 105\n",
      "Trainable params: 105\n",
      "Non-trainable params: 0\n",
      "_________________________________________________________________\n"
     ]
    }
   ],
   "source": [
    "classifier.summary()"
   ]
  },
  {
   "cell_type": "markdown",
   "id": "3dfb33d3",
   "metadata": {},
   "source": [
    "## Compile the model"
   ]
  },
  {
   "cell_type": "code",
   "execution_count": 8,
   "id": "1ce6bb72",
   "metadata": {},
   "outputs": [],
   "source": [
    "classifier.compile(optimizer=\"adam\", loss=keras.losses.CategoricalCrossentropy(), metrics=[\"accuracy\"])"
   ]
  },
  {
   "cell_type": "markdown",
   "id": "8b3b5d19",
   "metadata": {},
   "source": [
    "## Train the model"
   ]
  },
  {
   "cell_type": "code",
   "execution_count": 9,
   "id": "6564a5f4",
   "metadata": {},
   "outputs": [],
   "source": [
    "history = classifier.fit(x=X_train, y=y_train_encoded, batch_size=10, epochs=120, validation_data=(X_val, y_val_encoded), verbose=0)"
   ]
  },
  {
   "cell_type": "markdown",
   "id": "24eea33a",
   "metadata": {},
   "source": [
    "## MLP Performance"
   ]
  },
  {
   "cell_type": "markdown",
   "id": "c45c6574",
   "metadata": {},
   "source": [
    "### Accuracy and loss Visualization"
   ]
  },
  {
   "cell_type": "code",
   "execution_count": 10,
   "id": "edd8128a",
   "metadata": {},
   "outputs": [
    {
     "data": {
      "text/plain": [
       "Text(0, 0.5, 'Loss')"
      ]
     },
     "execution_count": 10,
     "metadata": {},
     "output_type": "execute_result"
    },
    {
     "data": {
      "image/png": "[encoded data removed]",
      "text/plain": [
       "<Figure size 720x288 with 2 Axes>"
      ]
     },
     "metadata": {
      "needs_background": "light"
     },
     "output_type": "display_data"
    }
   ],
   "source": [
    "fig, (ax1, ax2) = plt.subplots(1, 2, figsize=(10, 4))\n",
    "fig.suptitle(\"MLP Model Accuracy and Loss\")\n",
    "\n",
    "sns.lineplot(x=history.epoch, y=history.history['accuracy'], label=\"Train accuracy\", ax=ax1)\n",
    "sns.lineplot(x=history.epoch, y=history.history['val_accuracy'], label=\"Validation accuracy\", ax=ax1, color=\"red\")\n",
    "\n",
    "ax1.set_xlabel(\"Epochs\")\n",
    "ax1.set_ylabel(\"Accuracy\")\n",
    "\n",
    "########\n",
    "\n",
    "sns.lineplot(x=history.epoch, y=history.history['loss'], label=\"Train loss\", ax=ax2)\n",
    "sns.lineplot(x=history.epoch, y=history.history['val_loss'], label=\"Validation loss\", ax=ax2, color=\"red\")\n",
    "\n",
    "ax2.set_xlabel(\"Epochs\")\n",
    "ax2.set_ylabel(\"Loss\")\n"
   ]
  },
  {
   "cell_type": "markdown",
   "id": "f5bfaa01",
   "metadata": {},
   "source": [
    "### Validation set prediction"
   ]
  },
  {
   "cell_type": "code",
   "execution_count": 11,
   "id": "c30b8648",
   "metadata": {},
   "outputs": [
    {
     "name": "stdout",
     "output_type": "stream",
     "text": [
      "2/2 [==============================] - 0s 4ms/step\n"
     ]
    }
   ],
   "source": [
    "y_pred = classifier.predict(X_val)"
   ]
  },
  {
   "cell_type": "code",
   "execution_count": 12,
   "id": "19cb651a",
   "metadata": {},
   "outputs": [
    {
     "data": {
      "text/plain": [
       "array([0.04268406, 0.93575674, 0.02155918], dtype=float32)"
      ]
     },
     "execution_count": 12,
     "metadata": {},
     "output_type": "execute_result"
    }
   ],
   "source": [
    "y_pred[0]"
   ]
  },
  {
   "cell_type": "markdown",
   "id": "e260992f",
   "metadata": {},
   "source": [
    "### From probabilities to classes..."
   ]
  },
  {
   "cell_type": "code",
   "execution_count": 13,
   "id": "748fb7b3",
   "metadata": {},
   "outputs": [
    {
     "data": {
      "text/plain": [
       "array([1, 2, 2, 0, 1, 0, 2, 2, 0, 1, 1, 1, 1, 0, 0, 1, 1, 2, 2, 0, 2, 1,\n",
       "       1, 0, 0, 0, 1, 0, 2, 1, 1, 1, 2, 0, 1, 0], dtype=int64)"
      ]
     },
     "execution_count": 13,
     "metadata": {},
     "output_type": "execute_result"
    }
   ],
   "source": [
    "y_pred_labels = np.argmax(y_pred, axis=1)\n",
    "y_pred_labels"
   ]
  },
  {
   "cell_type": "markdown",
   "id": "b0a884b6",
   "metadata": {},
   "source": [
    "### Classification report"
   ]
  },
  {
   "cell_type": "code",
   "execution_count": 14,
   "id": "8af6737d",
   "metadata": {},
   "outputs": [
    {
     "name": "stdout",
     "output_type": "stream",
     "text": [
      "              precision    recall  f1-score   support\n",
      "\n",
      "           0       1.00      1.00      1.00        12\n",
      "           1       0.93      1.00      0.97        14\n",
      "           2       1.00      0.90      0.95        10\n",
      "\n",
      "    accuracy                           0.97        36\n",
      "   macro avg       0.98      0.97      0.97        36\n",
      "weighted avg       0.97      0.97      0.97        36\n",
      "\n"
     ]
    }
   ],
   "source": [
    "print(classification_report(y_val, y_pred_labels))"
   ]
  },
  {
   "cell_type": "markdown",
   "id": "2d16e8e3",
   "metadata": {},
   "source": [
    "### Confusion matrix"
   ]
  },
  {
   "cell_type": "code",
   "execution_count": 15,
   "id": "fe14bc0c",
   "metadata": {},
   "outputs": [
    {
     "data": {
      "image/png": "[encoded data removed]",
      "text/plain": [
       "<Figure size 576x432 with 1 Axes>"
      ]
     },
     "metadata": {
      "needs_background": "light"
     },
     "output_type": "display_data"
    }
   ],
   "source": [
    "cm = confusion_matrix(y_val, y_pred_labels)\n",
    "\n",
    "fig, ax = plt.subplots(figsize=(8, 6))\n",
    "\n",
    "sns.heatmap(cm, annot=True, fmt='d', cmap='Blues', cbar=False, ax=ax)\n",
    "\n",
    "ax.set_xlabel('Predicted labels')\n",
    "ax.set_ylabel('True labels')\n",
    "ax.set_title('Confusion Matrix')\n",
    "\n",
    "plt.show()"
   ]
  },
  {
   "cell_type": "markdown",
   "id": "7e9fae61",
   "metadata": {},
   "source": [
    "**We can see that the model performs really well and converges around 100 Epochs.**"
   ]
  }
 ],
 "metadata": {
  "kernelspec": {
   "display_name": "Python 3 (ipykernel)",
   "language": "python",
   "name": "python3"
  },
  "language_info": {
   "codemirror_mode": {
    "name": "ipython",
    "version": 3
   },
   "file_extension": ".py",
   "mimetype": "text/x-python",
   "name": "python",
   "nbconvert_exporter": "python",
   "pygments_lexer": "ipython3",
   "version": "3.9.12"
  }
 },
 "nbformat": 4,
 "nbformat_minor": 5
}

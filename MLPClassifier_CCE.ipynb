{
 "cells": [
  {
   "cell_type": "markdown",
   "id": "9c5d481f",
   "metadata": {},
   "source": [
    "# How to Wine recognition with MLP Classifier \n",
    "## (Sparse categorical Cross Entropy)"
   ]
  },
  {
   "cell_type": "markdown",
   "id": "95ae6d53",
   "metadata": {},
   "source": [
    "## Libraries import"
   ]
  },
  {
   "cell_type": "code",
   "execution_count": 1,
   "id": "50868f6f",
   "metadata": {},
   "outputs": [],
   "source": [
    "import pandas as pd\n",
    "from sklearn.datasets import load_wine\n",
    "from sklearn.model_selection import train_test_split\n",
    "import numpy as np\n",
    "from sklearn.preprocessing import StandardScaler\n",
    "from sklearn.model_selection import train_test_split\n",
    "\n",
    "import keras\n",
    "from keras.utils import to_categorical\n",
    "from keras.models import Sequential\n",
    "from keras.layers import Dense\n",
    "\n",
    "from sklearn.metrics import confusion_matrix, classification_report\n",
    "\n",
    "import plotly.graph_objects as go\n",
    "import matplotlib.pyplot as plt\n",
    "import seaborn as sns"
   ]
  },
  {
   "cell_type": "markdown",
   "id": "646519aa",
   "metadata": {},
   "source": [
    "## Load the wine dataset"
   ]
  },
  {
   "cell_type": "code",
   "execution_count": 4,
   "id": "0e828fd0",
   "metadata": {},
   "outputs": [],
   "source": [
    "data = load_wine()\n",
    "X = data.data\n",
    "y = data.target"
   ]
  },
  {
   "cell_type": "markdown",
   "id": "ef19e0a7",
   "metadata": {},
   "source": [
    "## Standard scaling"
   ]
  },
  {
   "cell_type": "code",
   "execution_count": 5,
   "id": "3350e782",
   "metadata": {},
   "outputs": [],
   "source": [
    "scaler = StandardScaler()\n",
    "X_scaled = scaler.fit_transform(X)"
   ]
  },
  {
   "cell_type": "markdown",
   "id": "8307c858",
   "metadata": {},
   "source": [
    "## Dataset split"
   ]
  },
  {
   "cell_type": "code",
   "execution_count": 6,
   "id": "cf2325d6",
   "metadata": {},
   "outputs": [],
   "source": [
    "X_train, X_val, y_train, y_val = train_test_split(X_scaled, y, test_size = 0.2, shuffle=True, stratify=y)"
   ]
  },
  {
   "cell_type": "markdown",
   "id": "b5f37c3d",
   "metadata": {},
   "source": [
    "## Convert target labels to one-hot encoded vectors"
   ]
  },
  {
   "cell_type": "code",
   "execution_count": 7,
   "id": "28b54446",
   "metadata": {},
   "outputs": [],
   "source": [
    "num_classes = 3\n",
    "y_train_encoded = to_categorical(y_train, num_classes)\n",
    "y_val_encoded = to_categorical(y_val, num_classes)"
   ]
  },
  {
   "cell_type": "markdown",
   "id": "a5bc890a",
   "metadata": {},
   "source": [
    "## Building model"
   ]
  },
  {
   "cell_type": "code",
   "execution_count": 8,
   "id": "ee791dcb",
   "metadata": {},
   "outputs": [],
   "source": [
    "inputs = keras.Input(shape=(X.shape[1], ))\n",
    "hidden_layers = keras.layers.Dense(6, activation=\"relu\")(inputs)\n",
    "output_layer = keras.layers.Dense(num_classes, activation=\"softmax\")(hidden_layers)"
   ]
  },
  {
   "cell_type": "code",
   "execution_count": 9,
   "id": "edaa7a96",
   "metadata": {},
   "outputs": [],
   "source": [
    "classifier = keras.Model(inputs=inputs, outputs=output_layer)"
   ]
  },
  {
   "cell_type": "code",
   "execution_count": 10,
   "id": "23d557a6",
   "metadata": {},
   "outputs": [
    {
     "name": "stdout",
     "output_type": "stream",
     "text": [
      "Model: \"model\"\n",
      "_________________________________________________________________\n",
      " Layer (type)                Output Shape              Param #   \n",
      "=================================================================\n",
      " input_1 (InputLayer)        [(None, 13)]              0         \n",
      "                                                                 \n",
      " dense_2 (Dense)             (None, 6)                 84        \n",
      "                                                                 \n",
      " dense_3 (Dense)             (None, 3)                 21        \n",
      "                                                                 \n",
      "=================================================================\n",
      "Total params: 105\n",
      "Trainable params: 105\n",
      "Non-trainable params: 0\n",
      "_________________________________________________________________\n"
     ]
    }
   ],
   "source": [
    "classifier.summary()"
   ]
  },
  {
   "cell_type": "markdown",
   "id": "3dfb33d3",
   "metadata": {},
   "source": [
    "## Compile and fit model"
   ]
  },
  {
   "cell_type": "code",
   "execution_count": 11,
   "id": "6564a5f4",
   "metadata": {},
   "outputs": [
    {
     "name": "stdout",
     "output_type": "stream",
     "text": [
      "Epoch 1/100\n",
      "15/15 [==============================] - 2s 29ms/step - loss: 1.5440 - accuracy: 0.2254 - val_loss: 1.3372 - val_accuracy: 0.2222\n",
      "Epoch 2/100\n",
      "15/15 [==============================] - 0s 7ms/step - loss: 1.3837 - accuracy: 0.2746 - val_loss: 1.2038 - val_accuracy: 0.2500\n",
      "Epoch 3/100\n",
      "15/15 [==============================] - 0s 6ms/step - loss: 1.2416 - accuracy: 0.2958 - val_loss: 1.0845 - val_accuracy: 0.4444\n",
      "Epoch 4/100\n",
      "15/15 [==============================] - 0s 6ms/step - loss: 1.1144 - accuracy: 0.4085 - val_loss: 0.9917 - val_accuracy: 0.6111\n",
      "Epoch 5/100\n",
      "15/15 [==============================] - 0s 5ms/step - loss: 1.0089 - accuracy: 0.5352 - val_loss: 0.9067 - val_accuracy: 0.6389\n",
      "Epoch 6/100\n",
      "15/15 [==============================] - 0s 7ms/step - loss: 0.9183 - accuracy: 0.6197 - val_loss: 0.8323 - val_accuracy: 0.7500\n",
      "Epoch 7/100\n",
      "15/15 [==============================] - 0s 6ms/step - loss: 0.8412 - accuracy: 0.6972 - val_loss: 0.7741 - val_accuracy: 0.7778\n",
      "Epoch 8/100\n",
      "15/15 [==============================] - 0s 6ms/step - loss: 0.7796 - accuracy: 0.7958 - val_loss: 0.7250 - val_accuracy: 0.8333\n",
      "Epoch 9/100\n",
      "15/15 [==============================] - 0s 6ms/step - loss: 0.7276 - accuracy: 0.8451 - val_loss: 0.6857 - val_accuracy: 0.8611\n",
      "Epoch 10/100\n",
      "15/15 [==============================] - 0s 6ms/step - loss: 0.6838 - accuracy: 0.8592 - val_loss: 0.6522 - val_accuracy: 0.8611\n",
      "Epoch 11/100\n",
      "15/15 [==============================] - 0s 5ms/step - loss: 0.6458 - accuracy: 0.8732 - val_loss: 0.6225 - val_accuracy: 0.8889\n",
      "Epoch 12/100\n",
      "15/15 [==============================] - 0s 10ms/step - loss: 0.6124 - accuracy: 0.8803 - val_loss: 0.5965 - val_accuracy: 0.8889\n",
      "Epoch 13/100\n",
      "15/15 [==============================] - 0s 6ms/step - loss: 0.5819 - accuracy: 0.8803 - val_loss: 0.5728 - val_accuracy: 0.9167\n",
      "Epoch 14/100\n",
      "15/15 [==============================] - 0s 6ms/step - loss: 0.5532 - accuracy: 0.9014 - val_loss: 0.5512 - val_accuracy: 0.9167\n",
      "Epoch 15/100\n",
      "15/15 [==============================] - 0s 6ms/step - loss: 0.5276 - accuracy: 0.9155 - val_loss: 0.5308 - val_accuracy: 0.9167\n",
      "Epoch 16/100\n",
      "15/15 [==============================] - 0s 6ms/step - loss: 0.5029 - accuracy: 0.9155 - val_loss: 0.5122 - val_accuracy: 0.9167\n",
      "Epoch 17/100\n",
      "15/15 [==============================] - 0s 6ms/step - loss: 0.4809 - accuracy: 0.9155 - val_loss: 0.4943 - val_accuracy: 0.9167\n",
      "Epoch 18/100\n",
      "15/15 [==============================] - 0s 6ms/step - loss: 0.4599 - accuracy: 0.9155 - val_loss: 0.4778 - val_accuracy: 0.9167\n",
      "Epoch 19/100\n",
      "15/15 [==============================] - 0s 6ms/step - loss: 0.4397 - accuracy: 0.9296 - val_loss: 0.4614 - val_accuracy: 0.9167\n",
      "Epoch 20/100\n",
      "15/15 [==============================] - 0s 6ms/step - loss: 0.4199 - accuracy: 0.9366 - val_loss: 0.4461 - val_accuracy: 0.9167\n",
      "Epoch 21/100\n",
      "15/15 [==============================] - 0s 6ms/step - loss: 0.4010 - accuracy: 0.9507 - val_loss: 0.4313 - val_accuracy: 0.9167\n",
      "Epoch 22/100\n",
      "15/15 [==============================] - 0s 6ms/step - loss: 0.3827 - accuracy: 0.9437 - val_loss: 0.4175 - val_accuracy: 0.9167\n",
      "Epoch 23/100\n",
      "15/15 [==============================] - 0s 7ms/step - loss: 0.3655 - accuracy: 0.9507 - val_loss: 0.4035 - val_accuracy: 0.8889\n",
      "Epoch 24/100\n",
      "15/15 [==============================] - 0s 6ms/step - loss: 0.3488 - accuracy: 0.9437 - val_loss: 0.3901 - val_accuracy: 0.8889\n",
      "Epoch 25/100\n",
      "15/15 [==============================] - 0s 6ms/step - loss: 0.3330 - accuracy: 0.9507 - val_loss: 0.3782 - val_accuracy: 0.8889\n",
      "Epoch 26/100\n",
      "15/15 [==============================] - 0s 6ms/step - loss: 0.3186 - accuracy: 0.9577 - val_loss: 0.3669 - val_accuracy: 0.8889\n",
      "Epoch 27/100\n",
      "15/15 [==============================] - 0s 6ms/step - loss: 0.3053 - accuracy: 0.9507 - val_loss: 0.3565 - val_accuracy: 0.8889\n",
      "Epoch 28/100\n",
      "15/15 [==============================] - 0s 7ms/step - loss: 0.2923 - accuracy: 0.9577 - val_loss: 0.3465 - val_accuracy: 0.8889\n",
      "Epoch 29/100\n",
      "15/15 [==============================] - 0s 6ms/step - loss: 0.2807 - accuracy: 0.9577 - val_loss: 0.3369 - val_accuracy: 0.8889\n",
      "Epoch 30/100\n",
      "15/15 [==============================] - 0s 6ms/step - loss: 0.2695 - accuracy: 0.9577 - val_loss: 0.3272 - val_accuracy: 0.8889\n",
      "Epoch 31/100\n",
      "15/15 [==============================] - 0s 6ms/step - loss: 0.2587 - accuracy: 0.9577 - val_loss: 0.3172 - val_accuracy: 0.8889\n",
      "Epoch 32/100\n",
      "15/15 [==============================] - 0s 6ms/step - loss: 0.2484 - accuracy: 0.9577 - val_loss: 0.3088 - val_accuracy: 0.8889\n",
      "Epoch 33/100\n",
      "15/15 [==============================] - 0s 6ms/step - loss: 0.2390 - accuracy: 0.9577 - val_loss: 0.3002 - val_accuracy: 0.8889\n",
      "Epoch 34/100\n",
      "15/15 [==============================] - 0s 6ms/step - loss: 0.2296 - accuracy: 0.9648 - val_loss: 0.2926 - val_accuracy: 0.8889\n",
      "Epoch 35/100\n",
      "15/15 [==============================] - 0s 6ms/step - loss: 0.2211 - accuracy: 0.9648 - val_loss: 0.2851 - val_accuracy: 0.8889\n",
      "Epoch 36/100\n",
      "15/15 [==============================] - 0s 6ms/step - loss: 0.2132 - accuracy: 0.9718 - val_loss: 0.2779 - val_accuracy: 0.8889\n",
      "Epoch 37/100\n",
      "15/15 [==============================] - 0s 6ms/step - loss: 0.2052 - accuracy: 0.9718 - val_loss: 0.2712 - val_accuracy: 0.8889\n",
      "Epoch 38/100\n",
      "15/15 [==============================] - 0s 6ms/step - loss: 0.1978 - accuracy: 0.9718 - val_loss: 0.2647 - val_accuracy: 0.8889\n",
      "Epoch 39/100\n",
      "15/15 [==============================] - 0s 6ms/step - loss: 0.1909 - accuracy: 0.9718 - val_loss: 0.2583 - val_accuracy: 0.8889\n",
      "Epoch 40/100\n",
      "15/15 [==============================] - 0s 6ms/step - loss: 0.1843 - accuracy: 0.9718 - val_loss: 0.2527 - val_accuracy: 0.8889\n",
      "Epoch 41/100\n",
      "15/15 [==============================] - 0s 6ms/step - loss: 0.1784 - accuracy: 0.9718 - val_loss: 0.2474 - val_accuracy: 0.8889\n",
      "Epoch 42/100\n",
      "15/15 [==============================] - 0s 6ms/step - loss: 0.1726 - accuracy: 0.9718 - val_loss: 0.2425 - val_accuracy: 0.8889\n",
      "Epoch 43/100\n",
      "15/15 [==============================] - 0s 6ms/step - loss: 0.1673 - accuracy: 0.9789 - val_loss: 0.2375 - val_accuracy: 0.8889\n",
      "Epoch 44/100\n",
      "15/15 [==============================] - 0s 6ms/step - loss: 0.1615 - accuracy: 0.9789 - val_loss: 0.2317 - val_accuracy: 0.8889\n",
      "Epoch 45/100\n",
      "15/15 [==============================] - 0s 7ms/step - loss: 0.1568 - accuracy: 0.9789 - val_loss: 0.2270 - val_accuracy: 0.9167\n",
      "Epoch 46/100\n",
      "15/15 [==============================] - 0s 6ms/step - loss: 0.1523 - accuracy: 0.9789 - val_loss: 0.2231 - val_accuracy: 0.9167\n",
      "Epoch 47/100\n",
      "15/15 [==============================] - 0s 6ms/step - loss: 0.1479 - accuracy: 0.9859 - val_loss: 0.2197 - val_accuracy: 0.9167\n",
      "Epoch 48/100\n",
      "15/15 [==============================] - 0s 6ms/step - loss: 0.1441 - accuracy: 0.9859 - val_loss: 0.2161 - val_accuracy: 0.9167\n",
      "Epoch 49/100\n",
      "15/15 [==============================] - 0s 7ms/step - loss: 0.1403 - accuracy: 0.9859 - val_loss: 0.2130 - val_accuracy: 0.9167\n",
      "Epoch 50/100\n",
      "15/15 [==============================] - 0s 6ms/step - loss: 0.1365 - accuracy: 0.9859 - val_loss: 0.2102 - val_accuracy: 0.9167\n",
      "Epoch 51/100\n",
      "15/15 [==============================] - 0s 6ms/step - loss: 0.1329 - accuracy: 0.9930 - val_loss: 0.2069 - val_accuracy: 0.9167\n",
      "Epoch 52/100\n",
      "15/15 [==============================] - 0s 6ms/step - loss: 0.1294 - accuracy: 0.9930 - val_loss: 0.2037 - val_accuracy: 0.9167\n",
      "Epoch 53/100\n",
      "15/15 [==============================] - 0s 6ms/step - loss: 0.1259 - accuracy: 0.9930 - val_loss: 0.2014 - val_accuracy: 0.9167\n",
      "Epoch 54/100\n",
      "15/15 [==============================] - 0s 7ms/step - loss: 0.1229 - accuracy: 0.9930 - val_loss: 0.1987 - val_accuracy: 0.9167\n",
      "Epoch 55/100\n",
      "15/15 [==============================] - 0s 7ms/step - loss: 0.1198 - accuracy: 0.9930 - val_loss: 0.1964 - val_accuracy: 0.9167\n",
      "Epoch 56/100\n",
      "15/15 [==============================] - 0s 6ms/step - loss: 0.1170 - accuracy: 0.9930 - val_loss: 0.1940 - val_accuracy: 0.9167\n",
      "Epoch 57/100\n",
      "15/15 [==============================] - 0s 6ms/step - loss: 0.1140 - accuracy: 0.9930 - val_loss: 0.1921 - val_accuracy: 0.9167\n",
      "Epoch 58/100\n",
      "15/15 [==============================] - 0s 6ms/step - loss: 0.1106 - accuracy: 0.9930 - val_loss: 0.1901 - val_accuracy: 0.9167\n"
     ]
    },
    {
     "name": "stdout",
     "output_type": "stream",
     "text": [
      "Epoch 59/100\n",
      "15/15 [==============================] - 0s 6ms/step - loss: 0.1075 - accuracy: 0.9930 - val_loss: 0.1883 - val_accuracy: 0.9167\n",
      "Epoch 60/100\n",
      "15/15 [==============================] - 0s 6ms/step - loss: 0.1045 - accuracy: 0.9930 - val_loss: 0.1858 - val_accuracy: 0.9167\n",
      "Epoch 61/100\n",
      "15/15 [==============================] - 0s 6ms/step - loss: 0.1017 - accuracy: 0.9930 - val_loss: 0.1840 - val_accuracy: 0.9167\n",
      "Epoch 62/100\n",
      "15/15 [==============================] - 0s 6ms/step - loss: 0.0990 - accuracy: 0.9930 - val_loss: 0.1823 - val_accuracy: 0.9167\n",
      "Epoch 63/100\n",
      "15/15 [==============================] - 0s 5ms/step - loss: 0.0963 - accuracy: 0.9930 - val_loss: 0.1810 - val_accuracy: 0.9167\n",
      "Epoch 64/100\n",
      "15/15 [==============================] - 0s 6ms/step - loss: 0.0938 - accuracy: 0.9930 - val_loss: 0.1794 - val_accuracy: 0.9167\n",
      "Epoch 65/100\n",
      "15/15 [==============================] - 0s 6ms/step - loss: 0.0914 - accuracy: 0.9930 - val_loss: 0.1781 - val_accuracy: 0.9167\n",
      "Epoch 66/100\n",
      "15/15 [==============================] - 0s 7ms/step - loss: 0.0892 - accuracy: 0.9930 - val_loss: 0.1775 - val_accuracy: 0.9167\n",
      "Epoch 67/100\n",
      "15/15 [==============================] - 0s 6ms/step - loss: 0.0870 - accuracy: 0.9930 - val_loss: 0.1752 - val_accuracy: 0.9167\n",
      "Epoch 68/100\n",
      "15/15 [==============================] - 0s 6ms/step - loss: 0.0848 - accuracy: 0.9930 - val_loss: 0.1735 - val_accuracy: 0.9167\n",
      "Epoch 69/100\n",
      "15/15 [==============================] - 0s 5ms/step - loss: 0.0830 - accuracy: 0.9930 - val_loss: 0.1719 - val_accuracy: 0.9167\n",
      "Epoch 70/100\n",
      "15/15 [==============================] - 0s 6ms/step - loss: 0.0812 - accuracy: 0.9930 - val_loss: 0.1715 - val_accuracy: 0.9167\n",
      "Epoch 71/100\n",
      "15/15 [==============================] - 0s 6ms/step - loss: 0.0796 - accuracy: 0.9930 - val_loss: 0.1702 - val_accuracy: 0.9167\n",
      "Epoch 72/100\n",
      "15/15 [==============================] - 0s 6ms/step - loss: 0.0780 - accuracy: 0.9930 - val_loss: 0.1687 - val_accuracy: 0.9167\n",
      "Epoch 73/100\n",
      "15/15 [==============================] - 0s 6ms/step - loss: 0.0764 - accuracy: 0.9930 - val_loss: 0.1673 - val_accuracy: 0.9167\n",
      "Epoch 74/100\n",
      "15/15 [==============================] - 0s 6ms/step - loss: 0.0750 - accuracy: 0.9930 - val_loss: 0.1658 - val_accuracy: 0.9167\n",
      "Epoch 75/100\n",
      "15/15 [==============================] - 0s 6ms/step - loss: 0.0735 - accuracy: 0.9930 - val_loss: 0.1647 - val_accuracy: 0.9167\n",
      "Epoch 76/100\n",
      "15/15 [==============================] - 0s 6ms/step - loss: 0.0721 - accuracy: 0.9930 - val_loss: 0.1636 - val_accuracy: 0.9167\n",
      "Epoch 77/100\n",
      "15/15 [==============================] - 0s 7ms/step - loss: 0.0709 - accuracy: 0.9930 - val_loss: 0.1627 - val_accuracy: 0.9167\n",
      "Epoch 78/100\n",
      "15/15 [==============================] - 0s 9ms/step - loss: 0.0696 - accuracy: 0.9930 - val_loss: 0.1614 - val_accuracy: 0.9167\n",
      "Epoch 79/100\n",
      "15/15 [==============================] - 0s 6ms/step - loss: 0.0683 - accuracy: 0.9930 - val_loss: 0.1610 - val_accuracy: 0.9167\n",
      "Epoch 80/100\n",
      "15/15 [==============================] - 0s 6ms/step - loss: 0.0671 - accuracy: 0.9930 - val_loss: 0.1600 - val_accuracy: 0.9167\n",
      "Epoch 81/100\n",
      "15/15 [==============================] - 0s 6ms/step - loss: 0.0660 - accuracy: 0.9930 - val_loss: 0.1592 - val_accuracy: 0.9167\n",
      "Epoch 82/100\n",
      "15/15 [==============================] - 0s 5ms/step - loss: 0.0650 - accuracy: 0.9930 - val_loss: 0.1583 - val_accuracy: 0.9167\n",
      "Epoch 83/100\n",
      "15/15 [==============================] - 0s 6ms/step - loss: 0.0639 - accuracy: 0.9930 - val_loss: 0.1572 - val_accuracy: 0.9167\n",
      "Epoch 84/100\n",
      "15/15 [==============================] - 0s 5ms/step - loss: 0.0629 - accuracy: 0.9930 - val_loss: 0.1568 - val_accuracy: 0.9167\n",
      "Epoch 85/100\n",
      "15/15 [==============================] - 0s 5ms/step - loss: 0.0618 - accuracy: 0.9930 - val_loss: 0.1559 - val_accuracy: 0.9167\n",
      "Epoch 86/100\n",
      "15/15 [==============================] - 0s 6ms/step - loss: 0.0610 - accuracy: 0.9930 - val_loss: 0.1550 - val_accuracy: 0.9167\n",
      "Epoch 87/100\n",
      "15/15 [==============================] - 0s 5ms/step - loss: 0.0599 - accuracy: 0.9930 - val_loss: 0.1548 - val_accuracy: 0.9167\n",
      "Epoch 88/100\n",
      "15/15 [==============================] - 0s 6ms/step - loss: 0.0590 - accuracy: 0.9930 - val_loss: 0.1543 - val_accuracy: 0.9167\n",
      "Epoch 89/100\n",
      "15/15 [==============================] - 0s 6ms/step - loss: 0.0583 - accuracy: 0.9930 - val_loss: 0.1537 - val_accuracy: 0.9167\n",
      "Epoch 90/100\n",
      "15/15 [==============================] - 0s 6ms/step - loss: 0.0574 - accuracy: 0.9930 - val_loss: 0.1535 - val_accuracy: 0.9167\n",
      "Epoch 91/100\n",
      "15/15 [==============================] - 0s 6ms/step - loss: 0.0565 - accuracy: 0.9930 - val_loss: 0.1528 - val_accuracy: 0.9167\n",
      "Epoch 92/100\n",
      "15/15 [==============================] - 0s 6ms/step - loss: 0.0557 - accuracy: 0.9930 - val_loss: 0.1524 - val_accuracy: 0.9167\n",
      "Epoch 93/100\n",
      "15/15 [==============================] - 0s 6ms/step - loss: 0.0549 - accuracy: 0.9930 - val_loss: 0.1517 - val_accuracy: 0.9167\n",
      "Epoch 94/100\n",
      "15/15 [==============================] - 0s 6ms/step - loss: 0.0541 - accuracy: 0.9930 - val_loss: 0.1513 - val_accuracy: 0.9167\n",
      "Epoch 95/100\n",
      "15/15 [==============================] - 0s 6ms/step - loss: 0.0534 - accuracy: 0.9930 - val_loss: 0.1508 - val_accuracy: 0.9167\n",
      "Epoch 96/100\n",
      "15/15 [==============================] - 0s 6ms/step - loss: 0.0526 - accuracy: 0.9930 - val_loss: 0.1505 - val_accuracy: 0.9167\n",
      "Epoch 97/100\n",
      "15/15 [==============================] - 0s 5ms/step - loss: 0.0519 - accuracy: 0.9930 - val_loss: 0.1500 - val_accuracy: 0.9167\n",
      "Epoch 98/100\n",
      "15/15 [==============================] - 0s 7ms/step - loss: 0.0511 - accuracy: 0.9930 - val_loss: 0.1492 - val_accuracy: 0.9167\n",
      "Epoch 99/100\n",
      "15/15 [==============================] - 0s 7ms/step - loss: 0.0505 - accuracy: 0.9930 - val_loss: 0.1487 - val_accuracy: 0.9167\n",
      "Epoch 100/100\n",
      "15/15 [==============================] - 0s 5ms/step - loss: 0.0498 - accuracy: 0.9930 - val_loss: 0.1489 - val_accuracy: 0.9167\n"
     ]
    }
   ],
   "source": [
    "classifier.compile(optimizer=\"adam\", loss=keras.losses.CategoricalCrossentropy(), metrics=[\"accuracy\"])\n",
    "history = classifier.fit(x=X_train, y=y_train_encoded, batch_size=10, epochs=100, validation_data=(X_val, y_val_encoded))"
   ]
  },
  {
   "cell_type": "markdown",
   "id": "24eea33a",
   "metadata": {},
   "source": [
    "## MLP Performance"
   ]
  },
  {
   "cell_type": "code",
   "execution_count": 12,
   "id": "6bc15601",
   "metadata": {
    "scrolled": true
   },
   "outputs": [
    {
     "data": {
      "application/vnd.plotly.v1+json": {
       "config": {
        "plotlyServerURL": "https://plot.ly"
       },
       "data": [
        {
         "name": "Train loss",
         "type": "scatter",
         "x": [
          0,
          1,
          2,
          3,
          4,
          5,
          6,
          7,
          8,
          9,
          10,
          11,
          12,
          13,
          14,
          15,
          16,
          17,
          18,
          19,
          20,
          21,
          22,
          23,
          24,
          25,
          26,
          27,
          28,
          29,
          30,
          31,
          32,
          33,
          34,
          35,
          36,
          37,
          38,
          39,
          40,
          41,
          42,
          43,
          44,
          45,
          46,
          47,
          48,
          49,
          50,
          51,
          52,
          53,
          54,
          55,
          56,
          57,
          58,
          59,
          60,
          61,
          62,
          63,
          64,
          65,
          66,
          67,
          68,
          69,
          70,
          71,
          72,
          73,
          74,
          75,
          76,
          77,
          78,
          79,
          80,
          81,
          82,
          83,
          84,
          85,
          86,
          87,
          88,
          89,
          90,
          91,
          92,
          93,
          94,
          95,
          96,
          97,
          98,
          99
         ],
         "y": [
          1.5439622402191162,
          1.383692979812622,
          1.241648554801941,
          1.1143708229064941,
          1.0088515281677246,
          0.9182578921318054,
          0.8411900997161865,
          0.7796038389205933,
          0.7276498675346375,
          0.6837686896324158,
          0.6457865834236145,
          0.6123631000518799,
          0.5818978548049927,
          0.5532056093215942,
          0.5275554060935974,
          0.5029246807098389,
          0.48093703389167786,
          0.45994555950164795,
          0.43973150849342346,
          0.41986939311027527,
          0.4009764492511749,
          0.3827131390571594,
          0.3655236065387726,
          0.34883567690849304,
          0.33297252655029297,
          0.3186146318912506,
          0.3052710294723511,
          0.29234737157821655,
          0.28065723180770874,
          0.2694774270057678,
          0.2586562931537628,
          0.2484043538570404,
          0.23897187411785126,
          0.22957965731620789,
          0.2210906445980072,
          0.21320155262947083,
          0.2051677405834198,
          0.19778935611248016,
          0.19089996814727783,
          0.18432901799678802,
          0.1783512979745865,
          0.17256015539169312,
          0.16727355122566223,
          0.1615021675825119,
          0.15682147443294525,
          0.152304545044899,
          0.14791376888751984,
          0.1440672129392624,
          0.14028827846050262,
          0.13650016486644745,
          0.13285303115844727,
          0.1294482946395874,
          0.12593726813793182,
          0.1229473426938057,
          0.11982410401105881,
          0.11701235920190811,
          0.11397502571344376,
          0.11055434495210648,
          0.10750847309827805,
          0.10452261567115784,
          0.1017167717218399,
          0.09897308796644211,
          0.0962599441409111,
          0.09382685273885727,
          0.09142497181892395,
          0.0891730785369873,
          0.0870267003774643,
          0.08475923538208008,
          0.08304425328969955,
          0.08121180534362793,
          0.07963113486766815,
          0.07797256857156754,
          0.07640907168388367,
          0.07504434138536453,
          0.07347294688224792,
          0.07206261157989502,
          0.0708678662776947,
          0.06963877379894257,
          0.0682685524225235,
          0.06713029742240906,
          0.06599673628807068,
          0.06496506929397583,
          0.06389609724283218,
          0.06285225600004196,
          0.06178354099392891,
          0.06095707044005394,
          0.05989936366677284,
          0.05896595120429993,
          0.058257974684238434,
          0.05736445635557175,
          0.05651039630174637,
          0.05572399124503136,
          0.05491612106561661,
          0.05413608253002167,
          0.053352199494838715,
          0.052644964307546616,
          0.05185987800359726,
          0.05114658176898956,
          0.05049622431397438,
          0.049794577062129974
         ]
        },
        {
         "name": "Validation Loss",
         "type": "scatter",
         "x": [
          0,
          1,
          2,
          3,
          4,
          5,
          6,
          7,
          8,
          9,
          10,
          11,
          12,
          13,
          14,
          15,
          16,
          17,
          18,
          19,
          20,
          21,
          22,
          23,
          24,
          25,
          26,
          27,
          28,
          29,
          30,
          31,
          32,
          33,
          34,
          35,
          36,
          37,
          38,
          39,
          40,
          41,
          42,
          43,
          44,
          45,
          46,
          47,
          48,
          49,
          50,
          51,
          52,
          53,
          54,
          55,
          56,
          57,
          58,
          59,
          60,
          61,
          62,
          63,
          64,
          65,
          66,
          67,
          68,
          69,
          70,
          71,
          72,
          73,
          74,
          75,
          76,
          77,
          78,
          79,
          80,
          81,
          82,
          83,
          84,
          85,
          86,
          87,
          88,
          89,
          90,
          91,
          92,
          93,
          94,
          95,
          96,
          97,
          98,
          99
         ],
         "y": [
          1.337237000465393,
          1.2038215398788452,
          1.0845080614089966,
          0.9916602373123169,
          0.9067472815513611,
          0.8323439359664917,
          0.7740651369094849,
          0.7249574661254883,
          0.6857407093048096,
          0.6522257924079895,
          0.6224793195724487,
          0.5965006351470947,
          0.5727649331092834,
          0.5512071251869202,
          0.5307681560516357,
          0.5121541023254395,
          0.49426162242889404,
          0.47775405645370483,
          0.46142783761024475,
          0.44605541229248047,
          0.43134573101997375,
          0.41747352480888367,
          0.4034794569015503,
          0.39007318019866943,
          0.37817102670669556,
          0.36685821413993835,
          0.3564698398113251,
          0.34645378589630127,
          0.3368699252605438,
          0.32721832394599915,
          0.317218542098999,
          0.30880653858184814,
          0.3001762628555298,
          0.2926217317581177,
          0.2851499021053314,
          0.2778606414794922,
          0.2711844742298126,
          0.2647157609462738,
          0.25831103324890137,
          0.2527178227901459,
          0.24743445217609406,
          0.2424776554107666,
          0.23749341070652008,
          0.23169416189193726,
          0.2269950658082962,
          0.2231280505657196,
          0.21965564787387848,
          0.2160947322845459,
          0.21303439140319824,
          0.210231751203537,
          0.20686054229736328,
          0.20374806225299835,
          0.2013554573059082,
          0.19874317944049835,
          0.19641219079494476,
          0.193954735994339,
          0.19211599230766296,
          0.1900557428598404,
          0.18825803697109222,
          0.1857771873474121,
          0.18402966856956482,
          0.1823468953371048,
          0.18101906776428223,
          0.17943769693374634,
          0.17812922596931458,
          0.17745953798294067,
          0.17521198093891144,
          0.17348156869411469,
          0.17188401520252228,
          0.1715410351753235,
          0.17015358805656433,
          0.16868799924850464,
          0.16728603839874268,
          0.1658370941877365,
          0.16469746828079224,
          0.1636252999305725,
          0.1626998484134674,
          0.16136345267295837,
          0.16097672283649445,
          0.15998908877372742,
          0.15919654071331024,
          0.15826980769634247,
          0.1572127342224121,
          0.15678150951862335,
          0.15593931078910828,
          0.15496666729450226,
          0.1548108160495758,
          0.1542711853981018,
          0.15365855395793915,
          0.15349748730659485,
          0.15277548134326935,
          0.15237024426460266,
          0.151674285531044,
          0.15134981274604797,
          0.150801882147789,
          0.15051695704460144,
          0.15003345906734467,
          0.14915089309215546,
          0.14872458577156067,
          0.14885371923446655
         ]
        }
       ],
       "layout": {
        "template": {
         "data": {
          "bar": [
           {
            "error_x": {
             "color": "#2a3f5f"
            },
            "error_y": {
             "color": "#2a3f5f"
            },
            "marker": {
             "line": {
              "color": "#E5ECF6",
              "width": 0.5
             },
             "pattern": {
              "fillmode": "overlay",
              "size": 10,
              "solidity": 0.2
             }
            },
            "type": "bar"
           }
          ],
          "barpolar": [
           {
            "marker": {
             "line": {
              "color": "#E5ECF6",
              "width": 0.5
             },
             "pattern": {
              "fillmode": "overlay",
              "size": 10,
              "solidity": 0.2
             }
            },
            "type": "barpolar"
           }
          ],
          "carpet": [
           {
            "aaxis": {
             "endlinecolor": "#2a3f5f",
             "gridcolor": "white",
             "linecolor": "white",
             "minorgridcolor": "white",
             "startlinecolor": "#2a3f5f"
            },
            "baxis": {
             "endlinecolor": "#2a3f5f",
             "gridcolor": "white",
             "linecolor": "white",
             "minorgridcolor": "white",
             "startlinecolor": "#2a3f5f"
            },
            "type": "carpet"
           }
          ],
          "choropleth": [
           {
            "colorbar": {
             "outlinewidth": 0,
             "ticks": ""
            },
            "type": "choropleth"
           }
          ],
          "contour": [
           {
            "colorbar": {
             "outlinewidth": 0,
             "ticks": ""
            },
            "colorscale": [
             [
              0,
              "#0d0887"
             ],
             [
              0.1111111111111111,
              "#46039f"
             ],
             [
              0.2222222222222222,
              "#7201a8"
             ],
             [
              0.3333333333333333,
              "#9c179e"
             ],
             [
              0.4444444444444444,
              "#bd3786"
             ],
             [
              0.5555555555555556,
              "#d8576b"
             ],
             [
              0.6666666666666666,
              "#ed7953"
             ],
             [
              0.7777777777777778,
              "#fb9f3a"
             ],
             [
              0.8888888888888888,
              "#fdca26"
             ],
             [
              1,
              "#f0f921"
             ]
            ],
            "type": "contour"
           }
          ],
          "contourcarpet": [
           {
            "colorbar": {
             "outlinewidth": 0,
             "ticks": ""
            },
            "type": "contourcarpet"
           }
          ],
          "heatmap": [
           {
            "colorbar": {
             "outlinewidth": 0,
             "ticks": ""
            },
            "colorscale": [
             [
              0,
              "#0d0887"
             ],
             [
              0.1111111111111111,
              "#46039f"
             ],
             [
              0.2222222222222222,
              "#7201a8"
             ],
             [
              0.3333333333333333,
              "#9c179e"
             ],
             [
              0.4444444444444444,
              "#bd3786"
             ],
             [
              0.5555555555555556,
              "#d8576b"
             ],
             [
              0.6666666666666666,
              "#ed7953"
             ],
             [
              0.7777777777777778,
              "#fb9f3a"
             ],
             [
              0.8888888888888888,
              "#fdca26"
             ],
             [
              1,
              "#f0f921"
             ]
            ],
            "type": "heatmap"
           }
          ],
          "heatmapgl": [
           {
            "colorbar": {
             "outlinewidth": 0,
             "ticks": ""
            },
            "colorscale": [
             [
              0,
              "#0d0887"
             ],
             [
              0.1111111111111111,
              "#46039f"
             ],
             [
              0.2222222222222222,
              "#7201a8"
             ],
             [
              0.3333333333333333,
              "#9c179e"
             ],
             [
              0.4444444444444444,
              "#bd3786"
             ],
             [
              0.5555555555555556,
              "#d8576b"
             ],
             [
              0.6666666666666666,
              "#ed7953"
             ],
             [
              0.7777777777777778,
              "#fb9f3a"
             ],
             [
              0.8888888888888888,
              "#fdca26"
             ],
             [
              1,
              "#f0f921"
             ]
            ],
            "type": "heatmapgl"
           }
          ],
          "histogram": [
           {
            "marker": {
             "pattern": {
              "fillmode": "overlay",
              "size": 10,
              "solidity": 0.2
             }
            },
            "type": "histogram"
           }
          ],
          "histogram2d": [
           {
            "colorbar": {
             "outlinewidth": 0,
             "ticks": ""
            },
            "colorscale": [
             [
              0,
              "#0d0887"
             ],
             [
              0.1111111111111111,
              "#46039f"
             ],
             [
              0.2222222222222222,
              "#7201a8"
             ],
             [
              0.3333333333333333,
              "#9c179e"
             ],
             [
              0.4444444444444444,
              "#bd3786"
             ],
             [
              0.5555555555555556,
              "#d8576b"
             ],
             [
              0.6666666666666666,
              "#ed7953"
             ],
             [
              0.7777777777777778,
              "#fb9f3a"
             ],
             [
              0.8888888888888888,
              "#fdca26"
             ],
             [
              1,
              "#f0f921"
             ]
            ],
            "type": "histogram2d"
           }
          ],
          "histogram2dcontour": [
           {
            "colorbar": {
             "outlinewidth": 0,
             "ticks": ""
            },
            "colorscale": [
             [
              0,
              "#0d0887"
             ],
             [
              0.1111111111111111,
              "#46039f"
             ],
             [
              0.2222222222222222,
              "#7201a8"
             ],
             [
              0.3333333333333333,
              "#9c179e"
             ],
             [
              0.4444444444444444,
              "#bd3786"
             ],
             [
              0.5555555555555556,
              "#d8576b"
             ],
             [
              0.6666666666666666,
              "#ed7953"
             ],
             [
              0.7777777777777778,
              "#fb9f3a"
             ],
             [
              0.8888888888888888,
              "#fdca26"
             ],
             [
              1,
              "#f0f921"
             ]
            ],
            "type": "histogram2dcontour"
           }
          ],
          "mesh3d": [
           {
            "colorbar": {
             "outlinewidth": 0,
             "ticks": ""
            },
            "type": "mesh3d"
           }
          ],
          "parcoords": [
           {
            "line": {
             "colorbar": {
              "outlinewidth": 0,
              "ticks": ""
             }
            },
            "type": "parcoords"
           }
          ],
          "pie": [
           {
            "automargin": true,
            "type": "pie"
           }
          ],
          "scatter": [
           {
            "marker": {
             "colorbar": {
              "outlinewidth": 0,
              "ticks": ""
             }
            },
            "type": "scatter"
           }
          ],
          "scatter3d": [
           {
            "line": {
             "colorbar": {
              "outlinewidth": 0,
              "ticks": ""
             }
            },
            "marker": {
             "colorbar": {
              "outlinewidth": 0,
              "ticks": ""
             }
            },
            "type": "scatter3d"
           }
          ],
          "scattercarpet": [
           {
            "marker": {
             "colorbar": {
              "outlinewidth": 0,
              "ticks": ""
             }
            },
            "type": "scattercarpet"
           }
          ],
          "scattergeo": [
           {
            "marker": {
             "colorbar": {
              "outlinewidth": 0,
              "ticks": ""
             }
            },
            "type": "scattergeo"
           }
          ],
          "scattergl": [
           {
            "marker": {
             "colorbar": {
              "outlinewidth": 0,
              "ticks": ""
             }
            },
            "type": "scattergl"
           }
          ],
          "scattermapbox": [
           {
            "marker": {
             "colorbar": {
              "outlinewidth": 0,
              "ticks": ""
             }
            },
            "type": "scattermapbox"
           }
          ],
          "scatterpolar": [
           {
            "marker": {
             "colorbar": {
              "outlinewidth": 0,
              "ticks": ""
             }
            },
            "type": "scatterpolar"
           }
          ],
          "scatterpolargl": [
           {
            "marker": {
             "colorbar": {
              "outlinewidth": 0,
              "ticks": ""
             }
            },
            "type": "scatterpolargl"
           }
          ],
          "scatterternary": [
           {
            "marker": {
             "colorbar": {
              "outlinewidth": 0,
              "ticks": ""
             }
            },
            "type": "scatterternary"
           }
          ],
          "surface": [
           {
            "colorbar": {
             "outlinewidth": 0,
             "ticks": ""
            },
            "colorscale": [
             [
              0,
              "#0d0887"
             ],
             [
              0.1111111111111111,
              "#46039f"
             ],
             [
              0.2222222222222222,
              "#7201a8"
             ],
             [
              0.3333333333333333,
              "#9c179e"
             ],
             [
              0.4444444444444444,
              "#bd3786"
             ],
             [
              0.5555555555555556,
              "#d8576b"
             ],
             [
              0.6666666666666666,
              "#ed7953"
             ],
             [
              0.7777777777777778,
              "#fb9f3a"
             ],
             [
              0.8888888888888888,
              "#fdca26"
             ],
             [
              1,
              "#f0f921"
             ]
            ],
            "type": "surface"
           }
          ],
          "table": [
           {
            "cells": {
             "fill": {
              "color": "#EBF0F8"
             },
             "line": {
              "color": "white"
             }
            },
            "header": {
             "fill": {
              "color": "#C8D4E3"
             },
             "line": {
              "color": "white"
             }
            },
            "type": "table"
           }
          ]
         },
         "layout": {
          "annotationdefaults": {
           "arrowcolor": "#2a3f5f",
           "arrowhead": 0,
           "arrowwidth": 1
          },
          "autotypenumbers": "strict",
          "coloraxis": {
           "colorbar": {
            "outlinewidth": 0,
            "ticks": ""
           }
          },
          "colorscale": {
           "diverging": [
            [
             0,
             "#8e0152"
            ],
            [
             0.1,
             "#c51b7d"
            ],
            [
             0.2,
             "#de77ae"
            ],
            [
             0.3,
             "#f1b6da"
            ],
            [
             0.4,
             "#fde0ef"
            ],
            [
             0.5,
             "#f7f7f7"
            ],
            [
             0.6,
             "#e6f5d0"
            ],
            [
             0.7,
             "#b8e186"
            ],
            [
             0.8,
             "#7fbc41"
            ],
            [
             0.9,
             "#4d9221"
            ],
            [
             1,
             "#276419"
            ]
           ],
           "sequential": [
            [
             0,
             "#0d0887"
            ],
            [
             0.1111111111111111,
             "#46039f"
            ],
            [
             0.2222222222222222,
             "#7201a8"
            ],
            [
             0.3333333333333333,
             "#9c179e"
            ],
            [
             0.4444444444444444,
             "#bd3786"
            ],
            [
             0.5555555555555556,
             "#d8576b"
            ],
            [
             0.6666666666666666,
             "#ed7953"
            ],
            [
             0.7777777777777778,
             "#fb9f3a"
            ],
            [
             0.8888888888888888,
             "#fdca26"
            ],
            [
             1,
             "#f0f921"
            ]
           ],
           "sequentialminus": [
            [
             0,
             "#0d0887"
            ],
            [
             0.1111111111111111,
             "#46039f"
            ],
            [
             0.2222222222222222,
             "#7201a8"
            ],
            [
             0.3333333333333333,
             "#9c179e"
            ],
            [
             0.4444444444444444,
             "#bd3786"
            ],
            [
             0.5555555555555556,
             "#d8576b"
            ],
            [
             0.6666666666666666,
             "#ed7953"
            ],
            [
             0.7777777777777778,
             "#fb9f3a"
            ],
            [
             0.8888888888888888,
             "#fdca26"
            ],
            [
             1,
             "#f0f921"
            ]
           ]
          },
          "colorway": [
           "#636efa",
           "#EF553B",
           "#00cc96",
           "#ab63fa",
           "#FFA15A",
           "#19d3f3",
           "#FF6692",
           "#B6E880",
           "#FF97FF",
           "#FECB52"
          ],
          "font": {
           "color": "#2a3f5f"
          },
          "geo": {
           "bgcolor": "white",
           "lakecolor": "white",
           "landcolor": "#E5ECF6",
           "showlakes": true,
           "showland": true,
           "subunitcolor": "white"
          },
          "hoverlabel": {
           "align": "left"
          },
          "hovermode": "closest",
          "mapbox": {
           "style": "light"
          },
          "paper_bgcolor": "white",
          "plot_bgcolor": "#E5ECF6",
          "polar": {
           "angularaxis": {
            "gridcolor": "white",
            "linecolor": "white",
            "ticks": ""
           },
           "bgcolor": "#E5ECF6",
           "radialaxis": {
            "gridcolor": "white",
            "linecolor": "white",
            "ticks": ""
           }
          },
          "scene": {
           "xaxis": {
            "backgroundcolor": "#E5ECF6",
            "gridcolor": "white",
            "gridwidth": 2,
            "linecolor": "white",
            "showbackground": true,
            "ticks": "",
            "zerolinecolor": "white"
           },
           "yaxis": {
            "backgroundcolor": "#E5ECF6",
            "gridcolor": "white",
            "gridwidth": 2,
            "linecolor": "white",
            "showbackground": true,
            "ticks": "",
            "zerolinecolor": "white"
           },
           "zaxis": {
            "backgroundcolor": "#E5ECF6",
            "gridcolor": "white",
            "gridwidth": 2,
            "linecolor": "white",
            "showbackground": true,
            "ticks": "",
            "zerolinecolor": "white"
           }
          },
          "shapedefaults": {
           "line": {
            "color": "#2a3f5f"
           }
          },
          "ternary": {
           "aaxis": {
            "gridcolor": "white",
            "linecolor": "white",
            "ticks": ""
           },
           "baxis": {
            "gridcolor": "white",
            "linecolor": "white",
            "ticks": ""
           },
           "bgcolor": "#E5ECF6",
           "caxis": {
            "gridcolor": "white",
            "linecolor": "white",
            "ticks": ""
           }
          },
          "title": {
           "x": 0.05
          },
          "xaxis": {
           "automargin": true,
           "gridcolor": "white",
           "linecolor": "white",
           "ticks": "",
           "title": {
            "standoff": 15
           },
           "zerolinecolor": "white",
           "zerolinewidth": 2
          },
          "yaxis": {
           "automargin": true,
           "gridcolor": "white",
           "linecolor": "white",
           "ticks": "",
           "title": {
            "standoff": 15
           },
           "zerolinecolor": "white",
           "zerolinewidth": 2
          }
         }
        },
        "title": {
         "text": "MLP performance in accuracy"
        },
        "xaxis": {
         "title": {
          "text": "Epochs"
         }
        },
        "yaxis": {
         "title": {
          "text": "Loss"
         }
        }
       }
      },
      "text/html": [
       "<div>                            <div id=\"ab10a363-f4c5-4c29-ab9d-9f06fce25224\" class=\"plotly-graph-div\" style=\"height:525px; width:100%;\"></div>            <script type=\"text/javascript\">                require([\"plotly\"], function(Plotly) {                    window.PLOTLYENV=window.PLOTLYENV || {};                                    if (document.getElementById(\"ab10a363-f4c5-4c29-ab9d-9f06fce25224\")) {                    Plotly.newPlot(                        \"ab10a363-f4c5-4c29-ab9d-9f06fce25224\",                        [{\"name\":\"Train loss\",\"x\":[0,1,2,3,4,5,6,7,8,9,10,11,12,13,14,15,16,17,18,19,20,21,22,23,24,25,26,27,28,29,30,31,32,33,34,35,36,37,38,39,40,41,42,43,44,45,46,47,48,49,50,51,52,53,54,55,56,57,58,59,60,61,62,63,64,65,66,67,68,69,70,71,72,73,74,75,76,77,78,79,80,81,82,83,84,85,86,87,88,89,90,91,92,93,94,95,96,97,98,99],\"y\":[1.5439622402191162,1.383692979812622,1.241648554801941,1.1143708229064941,1.0088515281677246,0.9182578921318054,0.8411900997161865,0.7796038389205933,0.7276498675346375,0.6837686896324158,0.6457865834236145,0.6123631000518799,0.5818978548049927,0.5532056093215942,0.5275554060935974,0.5029246807098389,0.48093703389167786,0.45994555950164795,0.43973150849342346,0.41986939311027527,0.4009764492511749,0.3827131390571594,0.3655236065387726,0.34883567690849304,0.33297252655029297,0.3186146318912506,0.3052710294723511,0.29234737157821655,0.28065723180770874,0.2694774270057678,0.2586562931537628,0.2484043538570404,0.23897187411785126,0.22957965731620789,0.2210906445980072,0.21320155262947083,0.2051677405834198,0.19778935611248016,0.19089996814727783,0.18432901799678802,0.1783512979745865,0.17256015539169312,0.16727355122566223,0.1615021675825119,0.15682147443294525,0.152304545044899,0.14791376888751984,0.1440672129392624,0.14028827846050262,0.13650016486644745,0.13285303115844727,0.1294482946395874,0.12593726813793182,0.1229473426938057,0.11982410401105881,0.11701235920190811,0.11397502571344376,0.11055434495210648,0.10750847309827805,0.10452261567115784,0.1017167717218399,0.09897308796644211,0.0962599441409111,0.09382685273885727,0.09142497181892395,0.0891730785369873,0.0870267003774643,0.08475923538208008,0.08304425328969955,0.08121180534362793,0.07963113486766815,0.07797256857156754,0.07640907168388367,0.07504434138536453,0.07347294688224792,0.07206261157989502,0.0708678662776947,0.06963877379894257,0.0682685524225235,0.06713029742240906,0.06599673628807068,0.06496506929397583,0.06389609724283218,0.06285225600004196,0.06178354099392891,0.06095707044005394,0.05989936366677284,0.05896595120429993,0.058257974684238434,0.05736445635557175,0.05651039630174637,0.05572399124503136,0.05491612106561661,0.05413608253002167,0.053352199494838715,0.052644964307546616,0.05185987800359726,0.05114658176898956,0.05049622431397438,0.049794577062129974],\"type\":\"scatter\"},{\"name\":\"Validation Loss\",\"x\":[0,1,2,3,4,5,6,7,8,9,10,11,12,13,14,15,16,17,18,19,20,21,22,23,24,25,26,27,28,29,30,31,32,33,34,35,36,37,38,39,40,41,42,43,44,45,46,47,48,49,50,51,52,53,54,55,56,57,58,59,60,61,62,63,64,65,66,67,68,69,70,71,72,73,74,75,76,77,78,79,80,81,82,83,84,85,86,87,88,89,90,91,92,93,94,95,96,97,98,99],\"y\":[1.337237000465393,1.2038215398788452,1.0845080614089966,0.9916602373123169,0.9067472815513611,0.8323439359664917,0.7740651369094849,0.7249574661254883,0.6857407093048096,0.6522257924079895,0.6224793195724487,0.5965006351470947,0.5727649331092834,0.5512071251869202,0.5307681560516357,0.5121541023254395,0.49426162242889404,0.47775405645370483,0.46142783761024475,0.44605541229248047,0.43134573101997375,0.41747352480888367,0.4034794569015503,0.39007318019866943,0.37817102670669556,0.36685821413993835,0.3564698398113251,0.34645378589630127,0.3368699252605438,0.32721832394599915,0.317218542098999,0.30880653858184814,0.3001762628555298,0.2926217317581177,0.2851499021053314,0.2778606414794922,0.2711844742298126,0.2647157609462738,0.25831103324890137,0.2527178227901459,0.24743445217609406,0.2424776554107666,0.23749341070652008,0.23169416189193726,0.2269950658082962,0.2231280505657196,0.21965564787387848,0.2160947322845459,0.21303439140319824,0.210231751203537,0.20686054229736328,0.20374806225299835,0.2013554573059082,0.19874317944049835,0.19641219079494476,0.193954735994339,0.19211599230766296,0.1900557428598404,0.18825803697109222,0.1857771873474121,0.18402966856956482,0.1823468953371048,0.18101906776428223,0.17943769693374634,0.17812922596931458,0.17745953798294067,0.17521198093891144,0.17348156869411469,0.17188401520252228,0.1715410351753235,0.17015358805656433,0.16868799924850464,0.16728603839874268,0.1658370941877365,0.16469746828079224,0.1636252999305725,0.1626998484134674,0.16136345267295837,0.16097672283649445,0.15998908877372742,0.15919654071331024,0.15826980769634247,0.1572127342224121,0.15678150951862335,0.15593931078910828,0.15496666729450226,0.1548108160495758,0.1542711853981018,0.15365855395793915,0.15349748730659485,0.15277548134326935,0.15237024426460266,0.151674285531044,0.15134981274604797,0.150801882147789,0.15051695704460144,0.15003345906734467,0.14915089309215546,0.14872458577156067,0.14885371923446655],\"type\":\"scatter\"}],                        {\"template\":{\"data\":{\"bar\":[{\"error_x\":{\"color\":\"#2a3f5f\"},\"error_y\":{\"color\":\"#2a3f5f\"},\"marker\":{\"line\":{\"color\":\"#E5ECF6\",\"width\":0.5},\"pattern\":{\"fillmode\":\"overlay\",\"size\":10,\"solidity\":0.2}},\"type\":\"bar\"}],\"barpolar\":[{\"marker\":{\"line\":{\"color\":\"#E5ECF6\",\"width\":0.5},\"pattern\":{\"fillmode\":\"overlay\",\"size\":10,\"solidity\":0.2}},\"type\":\"barpolar\"}],\"carpet\":[{\"aaxis\":{\"endlinecolor\":\"#2a3f5f\",\"gridcolor\":\"white\",\"linecolor\":\"white\",\"minorgridcolor\":\"white\",\"startlinecolor\":\"#2a3f5f\"},\"baxis\":{\"endlinecolor\":\"#2a3f5f\",\"gridcolor\":\"white\",\"linecolor\":\"white\",\"minorgridcolor\":\"white\",\"startlinecolor\":\"#2a3f5f\"},\"type\":\"carpet\"}],\"choropleth\":[{\"colorbar\":{\"outlinewidth\":0,\"ticks\":\"\"},\"type\":\"choropleth\"}],\"contour\":[{\"colorbar\":{\"outlinewidth\":0,\"ticks\":\"\"},\"colorscale\":[[0.0,\"#0d0887\"],[0.1111111111111111,\"#46039f\"],[0.2222222222222222,\"#7201a8\"],[0.3333333333333333,\"#9c179e\"],[0.4444444444444444,\"#bd3786\"],[0.5555555555555556,\"#d8576b\"],[0.6666666666666666,\"#ed7953\"],[0.7777777777777778,\"#fb9f3a\"],[0.8888888888888888,\"#fdca26\"],[1.0,\"#f0f921\"]],\"type\":\"contour\"}],\"contourcarpet\":[{\"colorbar\":{\"outlinewidth\":0,\"ticks\":\"\"},\"type\":\"contourcarpet\"}],\"heatmap\":[{\"colorbar\":{\"outlinewidth\":0,\"ticks\":\"\"},\"colorscale\":[[0.0,\"#0d0887\"],[0.1111111111111111,\"#46039f\"],[0.2222222222222222,\"#7201a8\"],[0.3333333333333333,\"#9c179e\"],[0.4444444444444444,\"#bd3786\"],[0.5555555555555556,\"#d8576b\"],[0.6666666666666666,\"#ed7953\"],[0.7777777777777778,\"#fb9f3a\"],[0.8888888888888888,\"#fdca26\"],[1.0,\"#f0f921\"]],\"type\":\"heatmap\"}],\"heatmapgl\":[{\"colorbar\":{\"outlinewidth\":0,\"ticks\":\"\"},\"colorscale\":[[0.0,\"#0d0887\"],[0.1111111111111111,\"#46039f\"],[0.2222222222222222,\"#7201a8\"],[0.3333333333333333,\"#9c179e\"],[0.4444444444444444,\"#bd3786\"],[0.5555555555555556,\"#d8576b\"],[0.6666666666666666,\"#ed7953\"],[0.7777777777777778,\"#fb9f3a\"],[0.8888888888888888,\"#fdca26\"],[1.0,\"#f0f921\"]],\"type\":\"heatmapgl\"}],\"histogram\":[{\"marker\":{\"pattern\":{\"fillmode\":\"overlay\",\"size\":10,\"solidity\":0.2}},\"type\":\"histogram\"}],\"histogram2d\":[{\"colorbar\":{\"outlinewidth\":0,\"ticks\":\"\"},\"colorscale\":[[0.0,\"#0d0887\"],[0.1111111111111111,\"#46039f\"],[0.2222222222222222,\"#7201a8\"],[0.3333333333333333,\"#9c179e\"],[0.4444444444444444,\"#bd3786\"],[0.5555555555555556,\"#d8576b\"],[0.6666666666666666,\"#ed7953\"],[0.7777777777777778,\"#fb9f3a\"],[0.8888888888888888,\"#fdca26\"],[1.0,\"#f0f921\"]],\"type\":\"histogram2d\"}],\"histogram2dcontour\":[{\"colorbar\":{\"outlinewidth\":0,\"ticks\":\"\"},\"colorscale\":[[0.0,\"#0d0887\"],[0.1111111111111111,\"#46039f\"],[0.2222222222222222,\"#7201a8\"],[0.3333333333333333,\"#9c179e\"],[0.4444444444444444,\"#bd3786\"],[0.5555555555555556,\"#d8576b\"],[0.6666666666666666,\"#ed7953\"],[0.7777777777777778,\"#fb9f3a\"],[0.8888888888888888,\"#fdca26\"],[1.0,\"#f0f921\"]],\"type\":\"histogram2dcontour\"}],\"mesh3d\":[{\"colorbar\":{\"outlinewidth\":0,\"ticks\":\"\"},\"type\":\"mesh3d\"}],\"parcoords\":[{\"line\":{\"colorbar\":{\"outlinewidth\":0,\"ticks\":\"\"}},\"type\":\"parcoords\"}],\"pie\":[{\"automargin\":true,\"type\":\"pie\"}],\"scatter\":[{\"marker\":{\"colorbar\":{\"outlinewidth\":0,\"ticks\":\"\"}},\"type\":\"scatter\"}],\"scatter3d\":[{\"line\":{\"colorbar\":{\"outlinewidth\":0,\"ticks\":\"\"}},\"marker\":{\"colorbar\":{\"outlinewidth\":0,\"ticks\":\"\"}},\"type\":\"scatter3d\"}],\"scattercarpet\":[{\"marker\":{\"colorbar\":{\"outlinewidth\":0,\"ticks\":\"\"}},\"type\":\"scattercarpet\"}],\"scattergeo\":[{\"marker\":{\"colorbar\":{\"outlinewidth\":0,\"ticks\":\"\"}},\"type\":\"scattergeo\"}],\"scattergl\":[{\"marker\":{\"colorbar\":{\"outlinewidth\":0,\"ticks\":\"\"}},\"type\":\"scattergl\"}],\"scattermapbox\":[{\"marker\":{\"colorbar\":{\"outlinewidth\":0,\"ticks\":\"\"}},\"type\":\"scattermapbox\"}],\"scatterpolar\":[{\"marker\":{\"colorbar\":{\"outlinewidth\":0,\"ticks\":\"\"}},\"type\":\"scatterpolar\"}],\"scatterpolargl\":[{\"marker\":{\"colorbar\":{\"outlinewidth\":0,\"ticks\":\"\"}},\"type\":\"scatterpolargl\"}],\"scatterternary\":[{\"marker\":{\"colorbar\":{\"outlinewidth\":0,\"ticks\":\"\"}},\"type\":\"scatterternary\"}],\"surface\":[{\"colorbar\":{\"outlinewidth\":0,\"ticks\":\"\"},\"colorscale\":[[0.0,\"#0d0887\"],[0.1111111111111111,\"#46039f\"],[0.2222222222222222,\"#7201a8\"],[0.3333333333333333,\"#9c179e\"],[0.4444444444444444,\"#bd3786\"],[0.5555555555555556,\"#d8576b\"],[0.6666666666666666,\"#ed7953\"],[0.7777777777777778,\"#fb9f3a\"],[0.8888888888888888,\"#fdca26\"],[1.0,\"#f0f921\"]],\"type\":\"surface\"}],\"table\":[{\"cells\":{\"fill\":{\"color\":\"#EBF0F8\"},\"line\":{\"color\":\"white\"}},\"header\":{\"fill\":{\"color\":\"#C8D4E3\"},\"line\":{\"color\":\"white\"}},\"type\":\"table\"}]},\"layout\":{\"annotationdefaults\":{\"arrowcolor\":\"#2a3f5f\",\"arrowhead\":0,\"arrowwidth\":1},\"autotypenumbers\":\"strict\",\"coloraxis\":{\"colorbar\":{\"outlinewidth\":0,\"ticks\":\"\"}},\"colorscale\":{\"diverging\":[[0,\"#8e0152\"],[0.1,\"#c51b7d\"],[0.2,\"#de77ae\"],[0.3,\"#f1b6da\"],[0.4,\"#fde0ef\"],[0.5,\"#f7f7f7\"],[0.6,\"#e6f5d0\"],[0.7,\"#b8e186\"],[0.8,\"#7fbc41\"],[0.9,\"#4d9221\"],[1,\"#276419\"]],\"sequential\":[[0.0,\"#0d0887\"],[0.1111111111111111,\"#46039f\"],[0.2222222222222222,\"#7201a8\"],[0.3333333333333333,\"#9c179e\"],[0.4444444444444444,\"#bd3786\"],[0.5555555555555556,\"#d8576b\"],[0.6666666666666666,\"#ed7953\"],[0.7777777777777778,\"#fb9f3a\"],[0.8888888888888888,\"#fdca26\"],[1.0,\"#f0f921\"]],\"sequentialminus\":[[0.0,\"#0d0887\"],[0.1111111111111111,\"#46039f\"],[0.2222222222222222,\"#7201a8\"],[0.3333333333333333,\"#9c179e\"],[0.4444444444444444,\"#bd3786\"],[0.5555555555555556,\"#d8576b\"],[0.6666666666666666,\"#ed7953\"],[0.7777777777777778,\"#fb9f3a\"],[0.8888888888888888,\"#fdca26\"],[1.0,\"#f0f921\"]]},\"colorway\":[\"#636efa\",\"#EF553B\",\"#00cc96\",\"#ab63fa\",\"#FFA15A\",\"#19d3f3\",\"#FF6692\",\"#B6E880\",\"#FF97FF\",\"#FECB52\"],\"font\":{\"color\":\"#2a3f5f\"},\"geo\":{\"bgcolor\":\"white\",\"lakecolor\":\"white\",\"landcolor\":\"#E5ECF6\",\"showlakes\":true,\"showland\":true,\"subunitcolor\":\"white\"},\"hoverlabel\":{\"align\":\"left\"},\"hovermode\":\"closest\",\"mapbox\":{\"style\":\"light\"},\"paper_bgcolor\":\"white\",\"plot_bgcolor\":\"#E5ECF6\",\"polar\":{\"angularaxis\":{\"gridcolor\":\"white\",\"linecolor\":\"white\",\"ticks\":\"\"},\"bgcolor\":\"#E5ECF6\",\"radialaxis\":{\"gridcolor\":\"white\",\"linecolor\":\"white\",\"ticks\":\"\"}},\"scene\":{\"xaxis\":{\"backgroundcolor\":\"#E5ECF6\",\"gridcolor\":\"white\",\"gridwidth\":2,\"linecolor\":\"white\",\"showbackground\":true,\"ticks\":\"\",\"zerolinecolor\":\"white\"},\"yaxis\":{\"backgroundcolor\":\"#E5ECF6\",\"gridcolor\":\"white\",\"gridwidth\":2,\"linecolor\":\"white\",\"showbackground\":true,\"ticks\":\"\",\"zerolinecolor\":\"white\"},\"zaxis\":{\"backgroundcolor\":\"#E5ECF6\",\"gridcolor\":\"white\",\"gridwidth\":2,\"linecolor\":\"white\",\"showbackground\":true,\"ticks\":\"\",\"zerolinecolor\":\"white\"}},\"shapedefaults\":{\"line\":{\"color\":\"#2a3f5f\"}},\"ternary\":{\"aaxis\":{\"gridcolor\":\"white\",\"linecolor\":\"white\",\"ticks\":\"\"},\"baxis\":{\"gridcolor\":\"white\",\"linecolor\":\"white\",\"ticks\":\"\"},\"bgcolor\":\"#E5ECF6\",\"caxis\":{\"gridcolor\":\"white\",\"linecolor\":\"white\",\"ticks\":\"\"}},\"title\":{\"x\":0.05},\"xaxis\":{\"automargin\":true,\"gridcolor\":\"white\",\"linecolor\":\"white\",\"ticks\":\"\",\"title\":{\"standoff\":15},\"zerolinecolor\":\"white\",\"zerolinewidth\":2},\"yaxis\":{\"automargin\":true,\"gridcolor\":\"white\",\"linecolor\":\"white\",\"ticks\":\"\",\"title\":{\"standoff\":15},\"zerolinecolor\":\"white\",\"zerolinewidth\":2}}},\"title\":{\"text\":\"MLP performance in accuracy\"},\"xaxis\":{\"title\":{\"text\":\"Epochs\"}},\"yaxis\":{\"title\":{\"text\":\"Loss\"}}},                        {\"responsive\": true}                    ).then(function(){\n",
       "                            \n",
       "var gd = document.getElementById('ab10a363-f4c5-4c29-ab9d-9f06fce25224');\n",
       "var x = new MutationObserver(function (mutations, observer) {{\n",
       "        var display = window.getComputedStyle(gd).display;\n",
       "        if (!display || display === 'none') {{\n",
       "            console.log([gd, 'removed!']);\n",
       "            Plotly.purge(gd);\n",
       "            observer.disconnect();\n",
       "        }}\n",
       "}});\n",
       "\n",
       "// Listen for the removal of the full notebook cells\n",
       "var notebookContainer = gd.closest('#notebook-container');\n",
       "if (notebookContainer) {{\n",
       "    x.observe(notebookContainer, {childList: true});\n",
       "}}\n",
       "\n",
       "// Listen for the clearing of the current output cell\n",
       "var outputEl = gd.closest('.output');\n",
       "if (outputEl) {{\n",
       "    x.observe(outputEl, {childList: true});\n",
       "}}\n",
       "\n",
       "                        })                };                });            </script>        </div>"
      ]
     },
     "metadata": {},
     "output_type": "display_data"
    }
   ],
   "source": [
    "fig = go.Figure()\n",
    "\n",
    "fig.add_trace(go.Scatter(x = history.epoch, y = history.history['loss'], name =\"Train loss\"))\n",
    "\n",
    "fig.add_trace(go.Scatter(x = history.epoch, y = history.history['val_loss'], name =\"Validation Loss\"))\n",
    "\n",
    "fig.update_layout(\n",
    "    title = \"MLP performance in accuracy\",\n",
    "    xaxis_title = \"Epochs\",\n",
    "    yaxis_title = \"Loss\")\n",
    "\n",
    "fig.show()"
   ]
  },
  {
   "cell_type": "markdown",
   "id": "f5bfaa01",
   "metadata": {},
   "source": [
    "## Validation test predictions"
   ]
  },
  {
   "cell_type": "code",
   "execution_count": 13,
   "id": "c30b8648",
   "metadata": {},
   "outputs": [
    {
     "name": "stdout",
     "output_type": "stream",
     "text": [
      "2/2 [==============================] - 0s 0s/step\n"
     ]
    }
   ],
   "source": [
    "y_pred = classifier.predict(X_val)"
   ]
  },
  {
   "cell_type": "code",
   "execution_count": 14,
   "id": "19cb651a",
   "metadata": {},
   "outputs": [
    {
     "data": {
      "text/plain": [
       "array([0.978445  , 0.01847063, 0.00308438], dtype=float32)"
      ]
     },
     "execution_count": 14,
     "metadata": {},
     "output_type": "execute_result"
    }
   ],
   "source": [
    "y_pred[0]"
   ]
  },
  {
   "cell_type": "markdown",
   "id": "e260992f",
   "metadata": {},
   "source": [
    "### From probabilities to classes..."
   ]
  },
  {
   "cell_type": "code",
   "execution_count": 15,
   "id": "748fb7b3",
   "metadata": {},
   "outputs": [
    {
     "data": {
      "text/plain": [
       "array([0, 0, 2, 1, 0, 2, 2, 0, 2, 1, 0, 0, 0, 2, 2, 2, 0, 1, 2, 1, 1, 1,\n",
       "       1, 2, 1, 0, 0, 0, 2, 2, 2, 0, 1, 1, 0, 1], dtype=int64)"
      ]
     },
     "execution_count": 15,
     "metadata": {},
     "output_type": "execute_result"
    }
   ],
   "source": [
    "y_pred_labels = np.argmax(y_pred, axis=1)\n",
    "y_pred_labels"
   ]
  },
  {
   "cell_type": "markdown",
   "id": "b0a884b6",
   "metadata": {},
   "source": [
    "## Classification report"
   ]
  },
  {
   "cell_type": "code",
   "execution_count": 16,
   "id": "8af6737d",
   "metadata": {},
   "outputs": [
    {
     "name": "stdout",
     "output_type": "stream",
     "text": [
      "              precision    recall  f1-score   support\n",
      "\n",
      "           0       0.92      1.00      0.96        12\n",
      "           1       1.00      0.79      0.88        14\n",
      "           2       0.83      1.00      0.91        10\n",
      "\n",
      "    accuracy                           0.92        36\n",
      "   macro avg       0.92      0.93      0.92        36\n",
      "weighted avg       0.93      0.92      0.91        36\n",
      "\n"
     ]
    }
   ],
   "source": [
    "print(classification_report(y_val, y_pred_labels))"
   ]
  },
  {
   "cell_type": "markdown",
   "id": "2d16e8e3",
   "metadata": {},
   "source": [
    "## Confusion matrix"
   ]
  },
  {
   "cell_type": "code",
   "execution_count": 17,
   "id": "fe14bc0c",
   "metadata": {},
   "outputs": [
    {
     "data": {
      "image/png": "[encoded data removed]",
      "text/plain": [
       "<Figure size 576x432 with 1 Axes>"
      ]
     },
     "metadata": {
      "needs_background": "light"
     },
     "output_type": "display_data"
    }
   ],
   "source": [
    "cm = confusion_matrix(y_val, y_pred_labels)\n",
    "\n",
    "fig, ax = plt.subplots(figsize=(8, 6))\n",
    "\n",
    "sns.heatmap(cm, annot=True, fmt='d', cmap='Blues', cbar=False, ax=ax)\n",
    "\n",
    "ax.set_xlabel('Predicted labels')\n",
    "ax.set_ylabel('True labels')\n",
    "ax.set_title('Confusion Matrix')\n",
    "\n",
    "plt.show()"
   ]
  }
 ],
 "metadata": {
  "kernelspec": {
   "display_name": "Python 3 (ipykernel)",
   "language": "python",
   "name": "python3"
  },
  "language_info": {
   "codemirror_mode": {
    "name": "ipython",
    "version": 3
   },
   "file_extension": ".py",
   "mimetype": "text/x-python",
   "name": "python",
   "nbconvert_exporter": "python",
   "pygments_lexer": "ipython3",
   "version": "3.9.12"
  }
 },
 "nbformat": 4,
 "nbformat_minor": 5
}
